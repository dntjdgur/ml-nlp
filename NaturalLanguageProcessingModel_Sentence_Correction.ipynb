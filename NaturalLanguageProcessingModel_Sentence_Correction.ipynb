{
 "cells": [
  {
   "cell_type": "code",
   "execution_count": 1,
   "metadata": {},
   "outputs": [],
   "source": [
    "import pandas as pd\n",
    "import numpy as np\n",
    "\n",
    "import os"
   ]
  },
  {
   "cell_type": "code",
   "execution_count": 2,
   "metadata": {},
   "outputs": [],
   "source": [
    "file_directory = \"./dataset/C4_200M.tsv\";\n",
    "df = pd.read_csv(file_directory, sep=\"\\t\");"
   ]
  },
  {
   "cell_type": "code",
   "execution_count": 3,
   "metadata": {},
   "outputs": [
    {
     "data": {
      "text/html": [
       "<div>\n",
       "<style scoped>\n",
       "    .dataframe tbody tr th:only-of-type {\n",
       "        vertical-align: middle;\n",
       "    }\n",
       "\n",
       "    .dataframe tbody tr th {\n",
       "        vertical-align: top;\n",
       "    }\n",
       "\n",
       "    .dataframe thead th {\n",
       "        text-align: right;\n",
       "    }\n",
       "</style>\n",
       "<table border=\"1\" class=\"dataframe\">\n",
       "  <thead>\n",
       "    <tr style=\"text-align: right;\">\n",
       "      <th></th>\n",
       "      <th>Bitcoin is for $7,094 this morning, which CoinDesk says.</th>\n",
       "      <th>Bitcoin goes for $7,094 this morning, according to CoinDesk.</th>\n",
       "    </tr>\n",
       "  </thead>\n",
       "  <tbody>\n",
       "    <tr>\n",
       "      <th>0</th>\n",
       "      <td>The effect of widespread dud targets two face ...</td>\n",
       "      <td>1. The effect of \"widespread dud\" targets two ...</td>\n",
       "    </tr>\n",
       "    <tr>\n",
       "      <th>1</th>\n",
       "      <td>tax on sales of stores for non residents are s...</td>\n",
       "      <td>Capital Gains tax on the sale of properties fo...</td>\n",
       "    </tr>\n",
       "    <tr>\n",
       "      <th>2</th>\n",
       "      <td>Much many brands and sellers still in the market.</td>\n",
       "      <td>Many brands and sellers still in the market.</td>\n",
       "    </tr>\n",
       "    <tr>\n",
       "      <th>3</th>\n",
       "      <td>this is is the latest Maintenance release of S...</td>\n",
       "      <td>This is is the latest maintenance release of S...</td>\n",
       "    </tr>\n",
       "    <tr>\n",
       "      <th>4</th>\n",
       "      <td>Fairy Or Not, I'm the Godmother: no just look,...</td>\n",
       "      <td>Fairy Or Not, I'm the Godmother: Not just a lo...</td>\n",
       "    </tr>\n",
       "    <tr>\n",
       "      <th>...</th>\n",
       "      <td>...</td>\n",
       "      <td>...</td>\n",
       "    </tr>\n",
       "    <tr>\n",
       "      <th>18386516</th>\n",
       "      <td>Filming for BBC my world kitchen \"</td>\n",
       "      <td>Filming for BBC \"my world kitchen \"</td>\n",
       "    </tr>\n",
       "    <tr>\n",
       "      <th>18386517</th>\n",
       "      <td>These posts categorizeed under Earing and post...</td>\n",
       "      <td>This post categorized under Earing and posted ...</td>\n",
       "    </tr>\n",
       "    <tr>\n",
       "      <th>18386518</th>\n",
       "      <td>NEWS: Mann Gallery featured in: American Style...</td>\n",
       "      <td>NEWS: Mann Gallery has been featured in: Ameri...</td>\n",
       "    </tr>\n",
       "    <tr>\n",
       "      <th>18386519</th>\n",
       "      <td>6Let stand a king for 5 mins before serving.</td>\n",
       "      <td>6Leave to stand for 5 mins before serving.</td>\n",
       "    </tr>\n",
       "    <tr>\n",
       "      <th>18386520</th>\n",
       "      <td>Preheat oven to 356 degrees Fahrenheit. (180 &amp;...</td>\n",
       "      <td>Preheat oven to 356 degrees Fahrenheit (180 de...</td>\n",
       "    </tr>\n",
       "  </tbody>\n",
       "</table>\n",
       "<p>18386521 rows × 2 columns</p>\n",
       "</div>"
      ],
      "text/plain": [
       "         Bitcoin is for $7,094 this morning, which CoinDesk says.  \\\n",
       "0         The effect of widespread dud targets two face ...         \n",
       "1         tax on sales of stores for non residents are s...         \n",
       "2         Much many brands and sellers still in the market.         \n",
       "3         this is is the latest Maintenance release of S...         \n",
       "4         Fairy Or Not, I'm the Godmother: no just look,...         \n",
       "...                                                     ...         \n",
       "18386516                 Filming for BBC my world kitchen \"         \n",
       "18386517  These posts categorizeed under Earing and post...         \n",
       "18386518  NEWS: Mann Gallery featured in: American Style...         \n",
       "18386519       6Let stand a king for 5 mins before serving.         \n",
       "18386520  Preheat oven to 356 degrees Fahrenheit. (180 &...         \n",
       "\n",
       "         Bitcoin goes for $7,094 this morning, according to CoinDesk.  \n",
       "0         1. The effect of \"widespread dud\" targets two ...            \n",
       "1         Capital Gains tax on the sale of properties fo...            \n",
       "2              Many brands and sellers still in the market.            \n",
       "3         This is is the latest maintenance release of S...            \n",
       "4         Fairy Or Not, I'm the Godmother: Not just a lo...            \n",
       "...                                                     ...            \n",
       "18386516                Filming for BBC \"my world kitchen \"            \n",
       "18386517  This post categorized under Earing and posted ...            \n",
       "18386518  NEWS: Mann Gallery has been featured in: Ameri...            \n",
       "18386519         6Leave to stand for 5 mins before serving.            \n",
       "18386520  Preheat oven to 356 degrees Fahrenheit (180 de...            \n",
       "\n",
       "[18386521 rows x 2 columns]"
      ]
     },
     "execution_count": 3,
     "metadata": {},
     "output_type": "execute_result"
    }
   ],
   "source": [
    "df"
   ]
  },
  {
   "cell_type": "code",
   "execution_count": null,
   "metadata": {},
   "outputs": [],
   "source": []
  },
  {
   "cell_type": "code",
   "execution_count": null,
   "metadata": {},
   "outputs": [],
   "source": []
  },
  {
   "cell_type": "code",
   "execution_count": null,
   "metadata": {},
   "outputs": [],
   "source": []
  },
  {
   "cell_type": "code",
   "execution_count": null,
   "metadata": {},
   "outputs": [],
   "source": []
  },
  {
   "cell_type": "code",
   "execution_count": null,
   "metadata": {},
   "outputs": [],
   "source": []
  },
  {
   "cell_type": "code",
   "execution_count": null,
   "metadata": {},
   "outputs": [],
   "source": []
  },
  {
   "cell_type": "code",
   "execution_count": null,
   "metadata": {},
   "outputs": [],
   "source": []
  }
 ],
 "metadata": {
  "kernelspec": {
   "display_name": "Python 3.10.14 64-bit",
   "language": "python",
   "name": "python3"
  },
  "language_info": {
   "codemirror_mode": {
    "name": "ipython",
    "version": 3
   },
   "file_extension": ".py",
   "mimetype": "text/x-python",
   "name": "python",
   "nbconvert_exporter": "python",
   "pygments_lexer": "ipython3",
   "version": "3.10.14"
  },
  "orig_nbformat": 4,
  "vscode": {
   "interpreter": {
    "hash": "bd385fe162c5ca0c84973b7dd5c518456272446b2b64e67c2a69f949ca7a1754"
   }
  }
 },
 "nbformat": 4,
 "nbformat_minor": 2
}
